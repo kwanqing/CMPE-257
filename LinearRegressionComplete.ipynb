{
  "nbformat": 4,
  "nbformat_minor": 0,
  "metadata": {
    "colab": {
      "provenance": [],
      "include_colab_link": true
    },
    "kernelspec": {
      "name": "python3",
      "display_name": "Python 3"
    },
    "language_info": {
      "name": "python"
    }
  },
  "cells": [
    {
      "cell_type": "markdown",
      "metadata": {
        "id": "view-in-github",
        "colab_type": "text"
      },
      "source": [
        "<a href=\"https://colab.research.google.com/github/kwanqing/CMPE-257-Fall23-Jeffrey-Ong/blob/class_activities/LinearRegressionComplete.ipynb\" target=\"_parent\"><img src=\"https://colab.research.google.com/assets/colab-badge.svg\" alt=\"Open In Colab\"/></a>"
      ]
    },
    {
      "cell_type": "code",
      "execution_count": 1,
      "metadata": {
        "id": "OzkguK00FdC7"
      },
      "outputs": [],
      "source": [
        "import numpy as np\n",
        "import matplotlib.pyplot as plt"
      ]
    },
    {
      "cell_type": "code",
      "source": [
        "import random\n",
        "\n",
        "## Generates N random points for logistic regression on a line w\n",
        "def generate_lr(N=20,w0=0,w1=1):\n",
        "    n = 0\n",
        "    X1 = []\n",
        "    Y = []\n",
        "    while(n < N):\n",
        "        x1 = random.uniform(-10,10)\n",
        "        x2 = random.uniform(-1,1)\n",
        "        y = w0 + w1*x1 + x2\n",
        "        X1.append(x1)\n",
        "        Y.append(y)\n",
        "        n += 1\n",
        "    data = [np.array([1,X1[i],Y[i]]) for i in range(N)]\n",
        "    return data"
      ],
      "metadata": {
        "id": "sOLCLFfoJhYt"
      },
      "execution_count": 2,
      "outputs": []
    },
    {
      "cell_type": "code",
      "source": [
        "f_w0, f_w1 = 1, 1\n",
        "N = 50\n",
        "data = generate_lr(N, f_w0, f_w1)"
      ],
      "metadata": {
        "id": "1afl5SK3J6cl"
      },
      "execution_count": 4,
      "outputs": []
    },
    {
      "cell_type": "code",
      "source": [
        "def abline(slope, intercept, label=None, color='b'):\n",
        "    \"\"\"Plot a line from slope and intercept\"\"\"\n",
        "    axes = plt.gca()\n",
        "    x_vals = np.array(axes.get_xlim())\n",
        "    y_vals = intercept + slope * x_vals\n",
        "    plt.plot(x_vals, y_vals, '--', label=label, c=color)"
      ],
      "metadata": {
        "id": "N1jq9aNzKLgM"
      },
      "execution_count": 32,
      "outputs": []
    },
    {
      "cell_type": "code",
      "source": [
        "X1 = [i[1] for i in data]\n",
        "Y  = [i[2] for i in data]\n",
        "markers = [] #'o' or '+'\n",
        "colors = [] # 'b' or 'r'\n",
        "cnt = 0\n",
        "plt.scatter(X1,Y, s = 10)\n",
        "\n",
        "abline(f_w1,f_w0)\n",
        "plt.show()"
      ],
      "metadata": {
        "colab": {
          "base_uri": "https://localhost:8080/",
          "height": 431
        },
        "id": "ZWtIlXhGKR64",
        "outputId": "9f75b6e4-cc2b-4917-d8c9-5e290ab10334"
      },
      "execution_count": 33,
      "outputs": [
        {
          "output_type": "display_data",
          "data": {
            "text/plain": [
              "<Figure size 640x480 with 1 Axes>"
            ],
            "image/png": "[encoded data removed]"
          },
          "metadata": {}
        }
      ]
    },
    {
      "cell_type": "code",
      "source": [
        "X = [[i[0], i[1]] for i in data]\n",
        "Y  = [i[2] for i in data]"
      ],
      "metadata": {
        "id": "yfiy35TmKvTN"
      },
      "execution_count": 9,
      "outputs": []
    },
    {
      "cell_type": "code",
      "source": [
        "XtX = np.matmul(np.transpose(X), X)\n",
        "XtX.shape"
      ],
      "metadata": {
        "colab": {
          "base_uri": "https://localhost:8080/"
        },
        "id": "8CrCKm2CQoeq",
        "outputId": "1f198e63-45b5-4ceb-f6d8-c38ba3e911a2"
      },
      "execution_count": 11,
      "outputs": [
        {
          "output_type": "execute_result",
          "data": {
            "text/plain": [
              "(2, 2)"
            ]
          },
          "metadata": {},
          "execution_count": 11
        }
      ]
    },
    {
      "cell_type": "code",
      "source": [
        "XtX_inv = np.linalg.inv(XtX)\n",
        "XtX_inv.shape, XtX_inv"
      ],
      "metadata": {
        "colab": {
          "base_uri": "https://localhost:8080/"
        },
        "id": "s7IC7NGWTB_e",
        "outputId": "dd0dcc5b-0f07-4de5-a294-cedaa41bea6b"
      },
      "execution_count": 13,
      "outputs": [
        {
          "output_type": "execute_result",
          "data": {
            "text/plain": [
              "((2, 2),\n",
              " array([[ 0.0201866 , -0.00033579],\n",
              "        [-0.00033579,  0.00060427]]))"
            ]
          },
          "metadata": {},
          "execution_count": 13
        }
      ]
    },
    {
      "cell_type": "code",
      "source": [
        "X_pi = np.matmul(XtX_inv, np.transpose(X))\n",
        "X_pi"
      ],
      "metadata": {
        "colab": {
          "base_uri": "https://localhost:8080/"
        },
        "id": "l9FA_Ii1TNr5",
        "outputId": "2037f648-8c42-4b8c-9268-698a63abb8b4"
      },
      "execution_count": 14,
      "outputs": [
        {
          "output_type": "execute_result",
          "data": {
            "text/plain": [
              "array([[ 1.92143021e-02,  2.17155768e-02,  2.21558225e-02,\n",
              "         1.94643316e-02,  1.98254143e-02,  1.89692781e-02,\n",
              "         2.16727136e-02,  1.68874846e-02,  1.81618500e-02,\n",
              "         1.76735131e-02,  1.69763470e-02,  2.23851156e-02,\n",
              "         2.24953824e-02,  1.81663863e-02,  1.97072447e-02,\n",
              "         1.73067050e-02,  1.69415807e-02,  2.08217880e-02,\n",
              "         2.23291209e-02,  1.77156163e-02,  1.94444751e-02,\n",
              "         2.04948148e-02,  2.14691363e-02,  2.13613574e-02,\n",
              "         2.02646278e-02,  1.86175970e-02,  2.07550255e-02,\n",
              "         2.19570858e-02,  1.92222672e-02,  2.05530521e-02,\n",
              "         1.84230092e-02,  2.18948420e-02,  2.28542543e-02,\n",
              "         1.73476699e-02,  2.08538388e-02,  2.16430433e-02,\n",
              "         2.00966086e-02,  1.89199548e-02,  1.77083402e-02,\n",
              "         2.15782161e-02,  1.70387639e-02,  2.21432997e-02,\n",
              "         2.29262547e-02,  1.85230699e-02,  2.00065515e-02,\n",
              "         1.70820843e-02,  2.30990876e-02,  1.82728133e-02,\n",
              "         2.17966491e-02,  2.30666362e-02],\n",
              "       [ 1.41388703e-03, -3.08723188e-03, -3.87946726e-03,\n",
              "         9.63951375e-04,  3.14172223e-04,  1.85481505e-03,\n",
              "        -3.01009838e-03,  5.60106485e-03,  3.30780612e-03,\n",
              "         4.18658301e-03,  5.44115425e-03, -4.29208715e-03,\n",
              "        -4.49051550e-03,  3.29964286e-03,  5.26821988e-04,\n",
              "         4.84666523e-03,  5.50371723e-03, -1.47883223e-03,\n",
              "        -4.19132301e-03,  4.11081708e-03,  9.99683818e-04,\n",
              "        -8.90434004e-04, -2.64375489e-03, -2.44980352e-03,\n",
              "        -4.76205615e-04,  2.48767576e-03, -1.35869106e-03,\n",
              "        -3.52183470e-03,  1.39955358e-03, -9.95233920e-04,\n",
              "         2.83784226e-03, -3.40982513e-03, -5.13631619e-03,\n",
              "         4.77294758e-03, -1.53650852e-03, -2.95670569e-03,\n",
              "        -1.73850079e-04,  1.94357372e-03,  4.12391062e-03,\n",
              "        -2.84004723e-03,  5.32883329e-03, -3.85693221e-03,\n",
              "        -5.26588318e-03,  2.65778001e-03, -1.17896753e-05,\n",
              "         5.25087685e-03, -5.57690117e-03,  3.10812437e-03,\n",
              "        -3.23312400e-03, -5.51850394e-03]])"
            ]
          },
          "metadata": {},
          "execution_count": 14
        }
      ]
    },
    {
      "cell_type": "code",
      "source": [
        "w = np.matmul(X_pi, Y)\n",
        "w"
      ],
      "metadata": {
        "colab": {
          "base_uri": "https://localhost:8080/"
        },
        "id": "3FPwj5tyTkXN",
        "outputId": "630556a3-9632-4cbc-a81b-72437dc62610"
      },
      "execution_count": 16,
      "outputs": [
        {
          "output_type": "execute_result",
          "data": {
            "text/plain": [
              "array([1.04206908, 1.01540252])"
            ]
          },
          "metadata": {},
          "execution_count": 16
        }
      ]
    },
    {
      "cell_type": "markdown",
      "source": [
        "Plot the final hypothesis with the target and the data points"
      ],
      "metadata": {
        "id": "aa-bE8dgRnwg"
      }
    },
    {
      "cell_type": "code",
      "source": [
        "X1 = [i[1] for i in data]\n",
        "Y  = [i[2] for i in data]\n",
        "plt.scatter(X1,Y, s = 10)\n",
        "\n",
        "abline(f_w1,f_w0)\n",
        "abline(w[1],w[0], color='r')\n",
        "plt.show()"
      ],
      "metadata": {
        "colab": {
          "base_uri": "https://localhost:8080/",
          "height": 430
        },
        "id": "Zas2l7DXRe7-",
        "outputId": "2a59d893-4577-4efb-a489-768531e7484f"
      },
      "execution_count": 34,
      "outputs": [
        {
          "output_type": "display_data",
          "data": {
            "text/plain": [
              "<Figure size 640x480 with 1 Axes>"
            ],
            "image/png": "[encoded data removed]"
          },
          "metadata": {}
        }
      ]
    },
    {
      "cell_type": "code",
      "source": [
        "Y_pred = np.matmul(X, w)\n",
        "np.sum(np.square(Y_pred-Y))"
      ],
      "metadata": {
        "id": "sqnhWFkqUSqp",
        "colab": {
          "base_uri": "https://localhost:8080/"
        },
        "outputId": "056397ec-02a3-466b-97bc-2b8bcf828195"
      },
      "execution_count": 18,
      "outputs": [
        {
          "output_type": "execute_result",
          "data": {
            "text/plain": [
              "15.446501024077579"
            ]
          },
          "metadata": {},
          "execution_count": 18
        }
      ]
    },
    {
      "cell_type": "code",
      "source": [
        "w_other = [3, 2]\n",
        "Y_other = np.matmul(X, w_other)\n",
        "np.sum(np.square(Y_other-Y))"
      ],
      "metadata": {
        "colab": {
          "base_uri": "https://localhost:8080/"
        },
        "id": "Fhcjdlds31jL",
        "outputId": "8937e11d-9354-4519-c446-2dba5dbf7b53"
      },
      "execution_count": 19,
      "outputs": [
        {
          "output_type": "execute_result",
          "data": {
            "text/plain": [
              "1933.5122933147472"
            ]
          },
          "metadata": {},
          "execution_count": 19
        }
      ]
    },
    {
      "cell_type": "markdown",
      "source": [
        "What about the test data set?"
      ],
      "metadata": {
        "id": "fn60S2xL4tkE"
      }
    },
    {
      "cell_type": "code",
      "source": [
        "#50 test samples\n",
        "testdata = generate_lr(50, f_w0, f_w1)\n",
        "X_test = [[i[0], i[1]] for i in testdata]\n",
        "Y_test  = [i[2] for i in testdata]\n",
        "Y_pred_test = np.matmul(X_test, w)\n",
        "np.sum(np.square(Y_pred_test-Y_test))"
      ],
      "metadata": {
        "colab": {
          "base_uri": "https://localhost:8080/"
        },
        "id": "acxmG3914wed",
        "outputId": "0d2fb107-6f11-4ea9-b4af-9f4a607c9e20"
      },
      "execution_count": 20,
      "outputs": [
        {
          "output_type": "execute_result",
          "data": {
            "text/plain": [
              "18.409147369150844"
            ]
          },
          "metadata": {},
          "execution_count": 20
        }
      ]
    },
    {
      "cell_type": "code",
      "source": [
        "Y_pred_test_target = np.matmul(X_test, [1, 1])\n",
        "np.sum(np.square(Y_pred_test_target-Y_test))"
      ],
      "metadata": {
        "colab": {
          "base_uri": "https://localhost:8080/"
        },
        "id": "xle-6VHG5Hdc",
        "outputId": "bc074e32-b3ce-4d28-aeb8-e322f5832a4b"
      },
      "execution_count": 21,
      "outputs": [
        {
          "output_type": "execute_result",
          "data": {
            "text/plain": [
              "18.25215386756195"
            ]
          },
          "metadata": {},
          "execution_count": 21
        }
      ]
    },
    {
      "cell_type": "code",
      "source": [
        "def regularized_linear_regression(X, Y, lambda_val):\n",
        "    N, d = X.shape\n",
        "    I = np.identity(d)\n",
        "    X_transpose = np.transpose(X)\n",
        "    XtX = np.matmul(X_transpose, X)\n",
        "    lambdaI = np.multiply(lambda_val, I)\n",
        "    XtX_plus_lambdaI = np.add(XtX, lambdaI)\n",
        "    inverse_term = np.linalg.inv(XtX_plus_lambdaI)\n",
        "    inverse_Xt = np.matmul(inverse_term, X_transpose)\n",
        "    w = np.matmul(inverse_Xt, Y)\n",
        "\n",
        "    return w"
      ],
      "metadata": {
        "id": "b1qwQo6M7wos"
      },
      "execution_count": 41,
      "outputs": []
    },
    {
      "cell_type": "code",
      "source": [
        "lambda_vals = [0, 0.001, 0.1, 1]\n",
        "\n",
        "# Extracting X and Y from the 'data' variable\n",
        "X = np.array([[i[0], i[1]] for i in data])\n",
        "Y = np.array([i[2] for i in data])\n",
        "\n",
        "# Plotting the data points\n",
        "plt.scatter(X[:, 1], Y, s=10)\n",
        "\n",
        "for lambda_val in lambda_vals:\n",
        "    w = regularized_linear_regression(X, Y, lambda_val)\n",
        "    abline(w[1], w[0], label=f\"$\\lambda$={lambda_val}\", color=np.random.rand(3,))\n",
        "    plt.legend(loc='upper left')\n",
        "\n",
        "plt.xlabel(\"x\")\n",
        "plt.ylabel(\"y\")\n",
        "plt.title(\"Final Hypothesis for each value of Different $\\lambda$\")\n",
        "plt.show()"
      ],
      "metadata": {
        "colab": {
          "base_uri": "https://localhost:8080/",
          "height": 474
        },
        "id": "juQRiZtC-wqB",
        "outputId": "b2b98aef-5193-4b17-fe7e-9ec275342cd6"
      },
      "execution_count": 196,
      "outputs": [
        {
          "output_type": "display_data",
          "data": {
            "text/plain": [
              "<Figure size 640x480 with 1 Axes>"
            ],
            "image/png": "[encoded data removed]"
          },
          "metadata": {}
        }
      ]
    },
    {
      "cell_type": "code",
      "source": [
        "from sklearn.model_selection import KFold\n",
        "\n",
        "def mean_squared_error(y_true, y_pred):\n",
        "    return np.mean((y_true - y_pred)**2)\n",
        "\n",
        "# 5-fold cross-validation\n",
        "kf = KFold(n_splits=5, shuffle=True, random_state=42)\n",
        "\n",
        "avg_validation_errors = {}\n",
        "\n",
        "for lambda_val in lambda_vals:\n",
        "    validation_errors = []\n",
        "\n",
        "    for train_index, val_index in kf.split(data):\n",
        "\n",
        "        X_train, X_val = X[train_index], X[val_index]\n",
        "        Y_train, Y_val = Y[train_index], Y[val_index]\n",
        "\n",
        "        w = regularized_linear_regression(X_train, Y_train, lambda_val)\n",
        "        Y_val_pred = np.matmul(X_val, w)\n",
        "\n",
        "        error = mean_squared_error(Y_val, Y_val_pred)\n",
        "        validation_errors.append(error)\n",
        "\n",
        "    # Average validation error for current lambda\n",
        "    avg_validation_errors[lambda_val] = np.mean(validation_errors)\n",
        "\n",
        "# Find the best lambda (that minimizes validation error)\n",
        "best_lambda = min(avg_validation_errors, key=avg_validation_errors.get)\n",
        "print(f\"The best lambda is: {best_lambda} with an average validation error of: {avg_validation_errors[best_lambda]}\")\n",
        "avg_validation_errors"
      ],
      "metadata": {
        "colab": {
          "base_uri": "https://localhost:8080/"
        },
        "id": "cfRDn8Gv-uJ2",
        "outputId": "a8f24062-9ff4-41fb-9d36-64cd4ee2bd03"
      },
      "execution_count": 203,
      "outputs": [
        {
          "output_type": "stream",
          "name": "stdout",
          "text": [
            "The best lambda is: 0.1 with an average validation error of: 0.33767461662549547\n"
          ]
        },
        {
          "output_type": "execute_result",
          "data": {
            "text/plain": [
              "{0: 0.33768222352909893,\n",
              " 0.001: 0.33768207855523935,\n",
              " 0.1: 0.33767461662549547,\n",
              " 1: 0.3382029639563301}"
            ]
          },
          "metadata": {},
          "execution_count": 203
        }
      ]
    }
  ]
}
{
  "nbformat": 4,
  "nbformat_minor": 0,
  "metadata": {
    "colab": {
      "provenance": [],
      "authorship_tag": "ABX9TyOn5rvCJ125Zku1ix4tCINI",
      "include_colab_link": true
    },
    "kernelspec": {
      "name": "python3",
      "display_name": "Python 3"
    },
    "language_info": {
      "name": "python"
    }
  },
  "cells": [
    {
      "cell_type": "markdown",
      "metadata": {
        "id": "view-in-github",
        "colab_type": "text"
      },
      "source": [
        "<a href=\"https://colab.research.google.com/github/kwanqing/CMPE-257-Fall23-Jeffrey-Ong/blob/homework_4/Homework4.ipynb\" target=\"_parent\"><img src=\"https://colab.research.google.com/assets/colab-badge.svg\" alt=\"Open In Colab\"/></a>"
      ]
    },
    {
      "cell_type": "markdown",
      "source": [
        "#Task 1 – the basic SVM classifier"
      ],
      "metadata": {
        "id": "wbd-fW5_Thf-"
      }
    },
    {
      "cell_type": "code",
      "source": [
        "import matplotlib.pyplot as plt\n",
        "import numpy as np\n",
        "import pandas as pd\n",
        "from sklearn.svm import SVC\n",
        "from sklearn.model_selection import GridSearchCV\n",
        "from sklearn.metrics import accuracy_score"
      ],
      "metadata": {
        "id": "7_Egf8UHW0uB"
      },
      "execution_count": 5,
      "outputs": []
    },
    {
      "cell_type": "code",
      "execution_count": 6,
      "metadata": {
        "id": "XjJ6bLpiKhud"
      },
      "outputs": [],
      "source": [
        "# Load the train and test datasets\n",
        "train_data = pd.read_csv('ZipDigits.train', header=None, sep=' ')\n",
        "test_data = pd.read_csv('ZipDigits.test', header=None, sep=' ')\n",
        "\n",
        "# Convert labels to binary classification\n",
        "train_data[0] = train_data[0].apply(lambda x: 1 if x == 1 else -1)\n",
        "test_data[0] = test_data[0].apply(lambda x: 1 if x == 1 else -1)\n",
        "\n",
        "# Drop columns with NaN values\n",
        "train_data = train_data.dropna(axis=1)\n",
        "test_data = test_data.dropna(axis=1)"
      ]
    },
    {
      "cell_type": "code",
      "source": [
        "train_data.shape, test_data.shape"
      ],
      "metadata": {
        "colab": {
          "base_uri": "https://localhost:8080/"
        },
        "id": "e7F615kM2Anu",
        "outputId": "532651e1-784c-4474-f43e-8829e5de6733"
      },
      "execution_count": 7,
      "outputs": [
        {
          "output_type": "execute_result",
          "data": {
            "text/plain": [
              "((7291, 257), (2007, 257))"
            ]
          },
          "metadata": {},
          "execution_count": 7
        }
      ]
    },
    {
      "cell_type": "code",
      "source": [
        "def calculate_features(data):\n",
        "    intensity_list = []\n",
        "    symmetry_list = []\n",
        "    labels = data[0].values\n",
        "\n",
        "    for index, row in data.iterrows():\n",
        "        pixels = row[1:].values\n",
        "\n",
        "        # Calculate intensity\n",
        "        intensity = np.mean(pixels)\n",
        "\n",
        "        # Calculate symmetry\n",
        "        left_half = pixels[:128]\n",
        "        right_half = np.flip(pixels[128:])\n",
        "        symmetry = -np.mean(np.abs(left_half - right_half))\n",
        "\n",
        "        intensity_list.append(intensity)\n",
        "        symmetry_list.append(symmetry)\n",
        "\n",
        "    return intensity_list, symmetry_list, labels\n",
        "\n",
        "def extract_features(intensity_list, symmetry_list, labels):\n",
        "    x = np.column_stack((intensity_list, symmetry_list))\n",
        "    y = labels\n",
        "    return x, y"
      ],
      "metadata": {
        "id": "BntfrFQKWrmP"
      },
      "execution_count": 8,
      "outputs": []
    },
    {
      "cell_type": "code",
      "source": [
        "intensity_list_train, symmetry_list_train, labels_train = calculate_features(train_data)"
      ],
      "metadata": {
        "id": "_-O4XJJEXv2_"
      },
      "execution_count": 9,
      "outputs": []
    },
    {
      "cell_type": "code",
      "source": [
        "x_train, y_train = extract_features(intensity_list_train, symmetry_list_train, labels_train)"
      ],
      "metadata": {
        "id": "lLR9iJ-dWskR"
      },
      "execution_count": 10,
      "outputs": []
    },
    {
      "cell_type": "code",
      "source": [
        "x_train.shape, y_train.shape"
      ],
      "metadata": {
        "colab": {
          "base_uri": "https://localhost:8080/"
        },
        "id": "tcBxTxtV2Esv",
        "outputId": "d586e7a5-c4e0-422e-949d-bd6e91e06d15"
      },
      "execution_count": 11,
      "outputs": [
        {
          "output_type": "execute_result",
          "data": {
            "text/plain": [
              "((7291, 2), (7291,))"
            ]
          },
          "metadata": {},
          "execution_count": 11
        }
      ]
    },
    {
      "cell_type": "code",
      "source": [
        "# Create SVM classifiers with different kernels\n",
        "svm_linear = SVC(kernel='linear', C=1)\n",
        "svm_poly = SVC(kernel='poly', degree=3, C=1)\n",
        "svm_rbf = SVC(kernel='rbf', C=1)\n",
        "\n",
        "svm_linear.fit(x_train, y_train)\n",
        "svm_poly.fit(x_train, y_train)\n",
        "svm_rbf.fit(x_train, y_train)\n",
        "\n",
        "y_pred_linear = svm_linear.predict(x_train)\n",
        "y_pred_poly = svm_poly.predict(x_train)\n",
        "y_pred_rbf = svm_rbf.predict(x_train)\n",
        "\n",
        "# Calculate training errors\n",
        "error_linear_training = 1 - accuracy_score(y_train, y_pred_linear)\n",
        "error_poly_training = 1 - accuracy_score(y_train, y_pred_poly)\n",
        "error_rbf_training = 1 - accuracy_score(y_train, y_pred_rbf)\n",
        "\n",
        "print(f\"Training Error with Linear Kernel: {error_linear_training}\")\n",
        "print(f\"Training Error with Polynomial Kernel: {error_poly_training}\")\n",
        "print(f\"Training Error with RBF Kernel: {error_rbf_training}\")"
      ],
      "metadata": {
        "colab": {
          "base_uri": "https://localhost:8080/"
        },
        "id": "G89GuFmGbHvx",
        "outputId": "fc74c5df-9776-43e2-ceaf-d4f297b1e77e"
      },
      "execution_count": 12,
      "outputs": [
        {
          "output_type": "stream",
          "name": "stdout",
          "text": [
            "Training Error with Linear Kernel: 0.01906460019201761\n",
            "Training Error with Polynomial Kernel: 0.020298998765601373\n",
            "Training Error with RBF Kernel: 0.01645864764778493\n"
          ]
        }
      ]
    },
    {
      "cell_type": "markdown",
      "source": [
        "Based on the results above, the RBF kernel has the lowest error (0.01646), followed by the linear kernel (0.01906), and then the polynomial kernel (0.02030). In my opinion, this is not an appropriate way\n",
        "to select a model because there are multiple reasons like overfitting concerns and validation techniques.\n",
        "\n",
        "1. Overfitting Concerns: A model with the lowest training error may overfit the training data like it might not perform well on those unseen data due to its over-specialization on training set.\n",
        "\n",
        "2. Validation Techniques: Methods like cross-validation are more appropriate for model selection because they provide a better estimate of how a model performs on unseen data and reducing the chance of an overfitting bias."
      ],
      "metadata": {
        "id": "fau8m6fsebuy"
      }
    },
    {
      "cell_type": "markdown",
      "source": [
        "# Task 2 – Cross validation"
      ],
      "metadata": {
        "id": "R_x79idqfvYt"
      }
    },
    {
      "cell_type": "code",
      "source": [
        "# Define the parameter grid: kernel types and C values\n",
        "param_grid = {\n",
        "    'kernel': ['linear', 'poly', 'rbf'],\n",
        "    'C': [0.01, 0.1, 1, 10, 100],\n",
        "    'degree': [3]  # Only for the polynomial kernel\n",
        "}\n",
        "\n",
        "svm = SVC()\n",
        "\n",
        "grid_search = GridSearchCV(svm, param_grid, cv=5, scoring='accuracy')\n",
        "\n",
        "grid_search.fit(x_train, y_train)\n",
        "\n",
        "results = grid_search.cv_results_\n",
        "\n",
        "for params, mean_test_score in zip(results['params'], results['mean_test_score']):\n",
        "    print(f\"Parameters: {params}, Cross-Validation Error: {1 - mean_test_score}\")"
      ],
      "metadata": {
        "colab": {
          "base_uri": "https://localhost:8080/"
        },
        "id": "V1n3IFmcfzDj",
        "outputId": "a1c40ff6-b72c-47b0-e1ca-048334ba9db9"
      },
      "execution_count": 13,
      "outputs": [
        {
          "output_type": "stream",
          "name": "stdout",
          "text": [
            "Parameters: {'C': 0.01, 'degree': 3, 'kernel': 'linear'}, Cross-Validation Error: 0.13784118441798743\n",
            "Parameters: {'C': 0.01, 'degree': 3, 'kernel': 'poly'}, Cross-Validation Error: 0.020162446608769535\n",
            "Parameters: {'C': 0.01, 'degree': 3, 'kernel': 'rbf'}, Cross-Validation Error: 0.0167330913275624\n",
            "Parameters: {'C': 0.1, 'degree': 3, 'kernel': 'linear'}, Cross-Validation Error: 0.019201851052687458\n",
            "Parameters: {'C': 0.1, 'degree': 3, 'kernel': 'poly'}, Cross-Validation Error: 0.020162446608769535\n",
            "Parameters: {'C': 0.1, 'degree': 3, 'kernel': 'rbf'}, Cross-Validation Error: 0.016870171519474675\n",
            "Parameters: {'C': 1, 'degree': 3, 'kernel': 'linear'}, Cross-Validation Error: 0.01906467684143931\n",
            "Parameters: {'C': 1, 'degree': 3, 'kernel': 'poly'}, Cross-Validation Error: 0.020025272397521277\n",
            "Parameters: {'C': 1, 'degree': 3, 'kernel': 'rbf'}, Cross-Validation Error: 0.016595823096978046\n",
            "Parameters: {'C': 10, 'degree': 3, 'kernel': 'linear'}, Cross-Validation Error: 0.019201851052687458\n",
            "Parameters: {'C': 10, 'degree': 3, 'kernel': 'poly'}, Cross-Validation Error: 0.020162446608769535\n",
            "Parameters: {'C': 10, 'degree': 3, 'kernel': 'rbf'}, Cross-Validation Error: 0.016870359558146752\n",
            "Parameters: {'C': 100, 'degree': 3, 'kernel': 'linear'}, Cross-Validation Error: 0.019201851052687458\n",
            "Parameters: {'C': 100, 'degree': 3, 'kernel': 'poly'}, Cross-Validation Error: 0.020162446608769535\n",
            "Parameters: {'C': 100, 'degree': 3, 'kernel': 'rbf'}, Cross-Validation Error: 0.017144519941971303\n"
          ]
        }
      ]
    },
    {
      "cell_type": "code",
      "source": [
        "best_parameters = grid_search.best_params_\n",
        "best_score = grid_search.best_score_\n",
        "print(f\"\\nBest Parameters: {best_parameters}, Best Cross-Validation Score: {best_score}\")"
      ],
      "metadata": {
        "colab": {
          "base_uri": "https://localhost:8080/"
        },
        "id": "Ntoy9y_VnK7Y",
        "outputId": "71d4cc37-e471-4d29-c34f-35ab07738164"
      },
      "execution_count": 14,
      "outputs": [
        {
          "output_type": "stream",
          "name": "stdout",
          "text": [
            "\n",
            "Best Parameters: {'C': 1, 'degree': 3, 'kernel': 'rbf'}, Best Cross-Validation Score: 0.983404176903022\n"
          ]
        }
      ]
    },
    {
      "cell_type": "code",
      "source": [
        "parameter_combinations = [f\"Kernel: {p['kernel']}, C: {p['C']}\" for p in results['params']]\n",
        "cross_val_errors = [1 - score for score in results['mean_test_score']]\n",
        "\n",
        "# Calculate in-sample errors\n",
        "in_sample_errors = []\n",
        "for params in results['params']:\n",
        "    svm.set_params(**params)\n",
        "    svm.fit(x_train, y_train)\n",
        "    y_pred = svm.predict(x_train)\n",
        "    in_sample_error = 1 - accuracy_score(y_train, y_pred)\n",
        "    in_sample_errors.append(in_sample_error)\n",
        "\n",
        "fig, ax = plt.subplots(figsize=(15, 7))\n",
        "x = np.arange(len(parameter_combinations))\n",
        "width = 0.35\n",
        "\n",
        "ax.bar(x - width/2, cross_val_errors, width, label='Cross-Val Error')\n",
        "ax.bar(x + width/2, in_sample_errors, width, label='In-Sample Error')\n",
        "\n",
        "ax.set_xlabel('Parameter Combinations')\n",
        "ax.set_ylabel('Error Rate')\n",
        "ax.set_title('Comparison of Cross-Validation Error and In-Sample Error for SVM Parameters')\n",
        "ax.set_xticks(x)\n",
        "ax.set_xticklabels(parameter_combinations, rotation=45)\n",
        "ax.legend()\n",
        "\n",
        "plt.show()"
      ],
      "metadata": {
        "colab": {
          "base_uri": "https://localhost:8080/",
          "height": 743
        },
        "id": "o_vZfhQZnukw",
        "outputId": "5c413b99-db41-47c1-c895-9b62dfa2868a"
      },
      "execution_count": 15,
      "outputs": [
        {
          "output_type": "display_data",
          "data": {
            "text/plain": [
              "<Figure size 1500x700 with 1 Axes>"
            ],
            "image/png": "[encoded data removed]"
          },
          "metadata": {}
        }
      ]
    },
    {
      "cell_type": "markdown",
      "source": [
        "The in-sample error is significantly lower than the cross-validation error may indicate overfitting. The model performs well on the training data but doesn't generalize effectively to new and unseen data. The parameter combination with the lowest cross-validation error is typically preferred because it suggests better generalization. However, it is also important to consider the difference between the in-sample and cross-validation errors to avoid overfit models. Our main goal is to find a balance where both errors are low, indicating that the model not only fits the training data well but also generalizes effectively to unseen data."
      ],
      "metadata": {
        "id": "h48Uix0xp70F"
      }
    },
    {
      "cell_type": "markdown",
      "source": [
        "#Task 3 – The final hypothesis"
      ],
      "metadata": {
        "id": "UCpIVa4VrQOE"
      }
    },
    {
      "cell_type": "code",
      "source": [
        "svm_final = SVC(**best_parameters)\n",
        "\n",
        "svm_final.fit(x_train, y_train)\n",
        "\n",
        "y_train_pred = svm_final.predict(x_train)\n",
        "\n",
        "in_sample_error = 1 - accuracy_score(y_train, y_train_pred)\n",
        "print(f\"In-Sample Error: {in_sample_error}\")"
      ],
      "metadata": {
        "colab": {
          "base_uri": "https://localhost:8080/"
        },
        "id": "ARlFjvF-rbk8",
        "outputId": "b528f061-b36a-4e41-92c9-a9aeefa707e6"
      },
      "execution_count": 16,
      "outputs": [
        {
          "output_type": "stream",
          "name": "stdout",
          "text": [
            "In-Sample Error: 0.01645864764778493\n"
          ]
        }
      ]
    },
    {
      "cell_type": "code",
      "source": [
        "intensity_list_test, symmetry_list_test, labels_test = calculate_features(test_data)"
      ],
      "metadata": {
        "id": "zn4BKW-D1x3O"
      },
      "execution_count": 17,
      "outputs": []
    },
    {
      "cell_type": "code",
      "source": [
        "x_test, y_test = extract_features(intensity_list_test, symmetry_list_test, labels_test)"
      ],
      "metadata": {
        "id": "rmHINRPz13a0"
      },
      "execution_count": 18,
      "outputs": []
    },
    {
      "cell_type": "code",
      "source": [
        "x_test.shape, y_test.shape"
      ],
      "metadata": {
        "colab": {
          "base_uri": "https://localhost:8080/"
        },
        "id": "zTxKktP32JuR",
        "outputId": "1fe6de46-ec59-43a0-80ea-4fc208cc3c6a"
      },
      "execution_count": 19,
      "outputs": [
        {
          "output_type": "execute_result",
          "data": {
            "text/plain": [
              "((2007, 2), (2007,))"
            ]
          },
          "metadata": {},
          "execution_count": 19
        }
      ]
    },
    {
      "cell_type": "code",
      "source": [
        "# Create SVM classifiers with different kernels\n",
        "svm_linear = SVC(kernel='linear', C=1)\n",
        "svm_poly = SVC(kernel='poly', degree=3, C=1)\n",
        "svm_rbf = SVC(kernel='rbf', C=1)\n",
        "\n",
        "svm_linear.fit(x_test, y_test)\n",
        "svm_poly.fit(x_test, y_test)\n",
        "svm_rbf.fit(x_test, y_test)\n",
        "\n",
        "y_pred_linear = svm_linear.predict(x_test)\n",
        "y_pred_poly = svm_poly.predict(x_test)\n",
        "y_pred_rbf = svm_rbf.predict(x_test)\n",
        "\n",
        "# Calculate test errors\n",
        "error_linear_testing = 1 - accuracy_score(y_test, y_pred_linear)\n",
        "error_poly_testing = 1 - accuracy_score(y_test, y_pred_poly)\n",
        "error_rbf_testing = 1 - accuracy_score(y_test, y_pred_rbf)\n",
        "\n",
        "print(f\"Training Error with Linear Kernel: {error_linear_testing}\")\n",
        "print(f\"Training Error with Polynomial Kernel: {error_poly_testing}\")\n",
        "print(f\"Training Error with RBF Kernel: {error_rbf_testing}\")"
      ],
      "metadata": {
        "colab": {
          "base_uri": "https://localhost:8080/"
        },
        "id": "FoCL3eU12M9T",
        "outputId": "6bc70da2-a999-4359-8dde-60e7e54749b7"
      },
      "execution_count": 20,
      "outputs": [
        {
          "output_type": "stream",
          "name": "stdout",
          "text": [
            "Training Error with Linear Kernel: 0.02391629297458897\n",
            "Training Error with Polynomial Kernel: 0.027902341803687114\n",
            "Training Error with RBF Kernel: 0.022421524663677084\n"
          ]
        }
      ]
    },
    {
      "cell_type": "code",
      "source": [
        "svm = SVC()\n",
        "\n",
        "grid_search = GridSearchCV(svm, param_grid, cv=5, scoring='accuracy')\n",
        "\n",
        "grid_search.fit(x_test, y_test)\n",
        "\n",
        "results = grid_search.cv_results_\n",
        "\n",
        "for params, mean_test_score in zip(results['params'], results['mean_test_score']):\n",
        "    print(f\"Parameters: {params}, Cross-Validation Error: {1 - mean_test_score}\")"
      ],
      "metadata": {
        "colab": {
          "base_uri": "https://localhost:8080/"
        },
        "id": "sLhh5gga2i4V",
        "outputId": "c131a843-2621-4bd3-cbb6-a6b03f1efed8"
      },
      "execution_count": 21,
      "outputs": [
        {
          "output_type": "stream",
          "name": "stdout",
          "text": [
            "Parameters: {'C': 0.01, 'degree': 3, 'kernel': 'linear'}, Cross-Validation Error: 0.1315393109266635\n",
            "Parameters: {'C': 0.01, 'degree': 3, 'kernel': 'poly'}, Cross-Validation Error: 0.0293916948921229\n",
            "Parameters: {'C': 0.01, 'degree': 3, 'kernel': 'rbf'}, Cross-Validation Error: 0.029387972853934796\n",
            "Parameters: {'C': 0.1, 'degree': 3, 'kernel': 'linear'}, Cross-Validation Error: 0.02391285467922233\n",
            "Parameters: {'C': 0.1, 'degree': 3, 'kernel': 'poly'}, Cross-Validation Error: 0.027897916899293995\n",
            "Parameters: {'C': 0.1, 'degree': 3, 'kernel': 'rbf'}, Cross-Validation Error: 0.02341782360020339\n",
            "Parameters: {'C': 1, 'degree': 3, 'kernel': 'linear'}, Cross-Validation Error: 0.02391285467922233\n",
            "Parameters: {'C': 1, 'degree': 3, 'kernel': 'poly'}, Cross-Validation Error: 0.027400404461483063\n",
            "Parameters: {'C': 1, 'degree': 3, 'kernel': 'rbf'}, Cross-Validation Error: 0.022919070482996462\n",
            "Parameters: {'C': 10, 'degree': 3, 'kernel': 'linear'}, Cross-Validation Error: 0.024411607796429258\n",
            "Parameters: {'C': 10, 'degree': 3, 'kernel': 'poly'}, Cross-Validation Error: 0.02690289202367213\n",
            "Parameters: {'C': 10, 'degree': 3, 'kernel': 'rbf'}, Cross-Validation Error: 0.024415329834617472\n",
            "Parameters: {'C': 100, 'degree': 3, 'kernel': 'linear'}, Cross-Validation Error: 0.024411607796429258\n",
            "Parameters: {'C': 100, 'degree': 3, 'kernel': 'poly'}, Cross-Validation Error: 0.0264053795858612\n",
            "Parameters: {'C': 100, 'degree': 3, 'kernel': 'rbf'}, Cross-Validation Error: 0.023916576717410543\n"
          ]
        }
      ]
    },
    {
      "cell_type": "code",
      "source": [
        "best_parameters = grid_search.best_params_\n",
        "best_score = grid_search.best_score_\n",
        "print(f\"\\nBest Parameters: {best_parameters}, Best Cross-Validation Score: {best_score}\")"
      ],
      "metadata": {
        "colab": {
          "base_uri": "https://localhost:8080/"
        },
        "id": "j3dAzk522vsG",
        "outputId": "0191b2f7-11a0-4967-9dd3-77a26a5fc754"
      },
      "execution_count": 22,
      "outputs": [
        {
          "output_type": "stream",
          "name": "stdout",
          "text": [
            "\n",
            "Best Parameters: {'C': 1, 'degree': 3, 'kernel': 'rbf'}, Best Cross-Validation Score: 0.9770809295170035\n"
          ]
        }
      ]
    },
    {
      "cell_type": "code",
      "source": [
        "parameter_combinations = [f\"Kernel: {p['kernel']}, C: {p['C']}\" for p in results['params']]\n",
        "cross_val_errors = [1 - score for score in results['mean_test_score']]\n",
        "\n",
        "# Calculate in-sample errors\n",
        "in_sample_errors = []\n",
        "for params in results['params']:\n",
        "    svm.set_params(**params)\n",
        "    svm.fit(x_test, y_test)\n",
        "    y_pred = svm.predict(x_test)\n",
        "    in_sample_error = 1 - accuracy_score(y_test, y_pred)\n",
        "    in_sample_errors.append(in_sample_error)\n",
        "\n",
        "fig, ax = plt.subplots(figsize=(15, 7))\n",
        "x = np.arange(len(parameter_combinations))\n",
        "width = 0.35\n",
        "\n",
        "ax.bar(x - width/2, cross_val_errors, width, label='Cross-Val Error')\n",
        "ax.bar(x + width/2, in_sample_errors, width, label='In-Sample Error')\n",
        "\n",
        "ax.set_xlabel('Parameter Combinations')\n",
        "ax.set_ylabel('Error Rate')\n",
        "ax.set_title('Comparison of Cross-Validation Error and In-Sample Error for SVM Parameters')\n",
        "ax.set_xticks(x)\n",
        "ax.set_xticklabels(parameter_combinations, rotation=45)\n",
        "ax.legend()\n",
        "\n",
        "plt.show()"
      ],
      "metadata": {
        "colab": {
          "base_uri": "https://localhost:8080/",
          "height": 743
        },
        "id": "EFG6jRGK2x5q",
        "outputId": "1f1b353c-f357-48d1-d25f-69cec6b0d4a2"
      },
      "execution_count": 23,
      "outputs": [
        {
          "output_type": "display_data",
          "data": {
            "text/plain": [
              "<Figure size 1500x700 with 1 Axes>"
            ],
            "image/png": "[encoded data removed]"
          },
          "metadata": {}
        }
      ]
    },
    {
      "cell_type": "code",
      "source": [
        "svm_final = SVC(**best_parameters)\n",
        "\n",
        "svm_final.fit(x_train, y_train)\n",
        "\n",
        "y_test_pred = svm_final.predict(x_test)\n",
        "\n",
        "test_error = 1 - accuracy_score(y_test, y_test_pred)\n",
        "print(f\"Final Test Error: {test_error}\")"
      ],
      "metadata": {
        "colab": {
          "base_uri": "https://localhost:8080/"
        },
        "id": "15xmYj8g4Eoe",
        "outputId": "bf4cf538-209c-49cf-e617-c8455a578e0d"
      },
      "execution_count": 24,
      "outputs": [
        {
          "output_type": "stream",
          "name": "stdout",
          "text": [
            "Final Test Error: 0.02291978076731438\n"
          ]
        }
      ]
    },
    {
      "cell_type": "markdown",
      "source": [
        "# Task 4 – Overall Learning approach"
      ],
      "metadata": {
        "id": "I17c1BucrZL3"
      }
    },
    {
      "cell_type": "code",
      "source": [
        "def pla(X, Y, max_iter=1000):\n",
        "    w = np.zeros(X.shape[1])\n",
        "\n",
        "    for _ in range(max_iter):\n",
        "        misclassified = False\n",
        "\n",
        "        for i in range(X.shape[0]):\n",
        "            if Y[i] * np.dot(w, X[i, :]) <= 0:\n",
        "                w = w + Y[i] * X[i, :]\n",
        "                misclassified = True\n",
        "\n",
        "        if not misclassified:\n",
        "            break\n",
        "    return w\n",
        "\n",
        "# Run PLA\n",
        "w_PLA = pla(x_train, y_train)\n",
        "w_PLA"
      ],
      "metadata": {
        "colab": {
          "base_uri": "https://localhost:8080/"
        },
        "id": "FIS2sbdr3epw",
        "outputId": "a05c9682-e93c-45f4-a019-0085919f6c8c"
      },
      "execution_count": 25,
      "outputs": [
        {
          "output_type": "execute_result",
          "data": {
            "text/plain": [
              "array([-1.30020703,  3.26347656])"
            ]
          },
          "metadata": {},
          "execution_count": 25
        }
      ]
    },
    {
      "cell_type": "code",
      "source": [
        "def pocket_algorithm(X, Y, max_iter=1000):\n",
        "    w = np.zeros(X.shape[1])\n",
        "    w_pocket = np.copy(w)\n",
        "    min_error = float('inf')\n",
        "\n",
        "    for _ in range(max_iter):\n",
        "        for i in range(X.shape[0]):\n",
        "            if Y[i] * np.dot(w, X[i, :]) <= 0:\n",
        "                w = w + Y[i] * X[i, :]\n",
        "                current_error = np.sum(Y * np.dot(X, w) <= 0)\n",
        "                if current_error < min_error:\n",
        "                    w_pocket = np.copy(w)\n",
        "                    min_error = current_error\n",
        "    return w_pocket\n",
        "\n",
        "\n",
        "# Run Pocket Algorithm\n",
        "w_pocket = pocket_algorithm(x_train, y_train, max_iter=1000)\n",
        "w_pocket"
      ],
      "metadata": {
        "colab": {
          "base_uri": "https://localhost:8080/"
        },
        "id": "P2LbWKIb3uV2",
        "outputId": "83a2732a-82b1-408c-e938-2b74709eb9f7"
      },
      "execution_count": 26,
      "outputs": [
        {
          "output_type": "execute_result",
          "data": {
            "text/plain": [
              "array([-1.00402344,  3.21715625])"
            ]
          },
          "metadata": {},
          "execution_count": 26
        }
      ]
    },
    {
      "cell_type": "code",
      "source": [
        "def compute_error_rate(w, x, y):\n",
        "    predictions = np.sign(np.dot(x, w))\n",
        "    error_rate = np.mean(predictions != y)\n",
        "    return error_rate"
      ],
      "metadata": {
        "id": "7SOcDPF43zQv"
      },
      "execution_count": 27,
      "outputs": []
    },
    {
      "cell_type": "code",
      "source": [
        "error_rate_pla = compute_error_rate(w_PLA, x_test, y_test)\n",
        "error_rate_pocket = compute_error_rate(w_pocket, x_test, y_test)\n",
        "\n",
        "print(f\"Error rate for PLA: {error_rate_pla: }\")\n",
        "print(f\"Error rate for Pocket Algorithm: {error_rate_pocket: }\")"
      ],
      "metadata": {
        "colab": {
          "base_uri": "https://localhost:8080/"
        },
        "id": "WOg2EG8_4Z-g",
        "outputId": "9b8574b9-f606-4a13-e523-c9f854b44240"
      },
      "execution_count": 29,
      "outputs": [
        {
          "output_type": "stream",
          "name": "stdout",
          "text": [
            "Error rate for PLA:  0.025411061285500747\n",
            "Error rate for Pocket Algorithm:  0.023418036870951668\n"
          ]
        }
      ]
    },
    {
      "cell_type": "code",
      "source": [
        "from sklearn.preprocessing import PolynomialFeatures\n",
        "\n",
        "# Stack the features\n",
        "x_train_original = np.column_stack((intensity_list_train, symmetry_list_train))\n",
        "\n",
        "poly = PolynomialFeatures(3)\n",
        "\n",
        "x_train_poly = poly.fit_transform(x_train_original)\n",
        "\n",
        "x_train_poly.shape, x_train_poly[:5]"
      ],
      "metadata": {
        "colab": {
          "base_uri": "https://localhost:8080/"
        },
        "id": "EbAUDCuG4dMn",
        "outputId": "92688dea-b088-4f90-b365-7c48d2eb4110"
      },
      "execution_count": 30,
      "outputs": [
        {
          "output_type": "execute_result",
          "data": {
            "text/plain": [
              "((7291, 10),\n",
              " array([[ 1.        , -0.31781641, -0.83767969,  0.10100727,  0.26622835,\n",
              "          0.70170726, -0.03210177, -0.08461174, -0.22301408, -0.58780592],\n",
              "        [ 1.        , -0.11173828, -1.01836719,  0.01248544,  0.1137906 ,\n",
              "          1.03707173, -0.0013951 , -0.01271477, -0.11588061, -1.05611982],\n",
              "        [ 1.        , -0.53799609, -0.53105469,  0.2894398 ,  0.28570535,\n",
              "          0.28201908, -0.15571748, -0.15370836, -0.15172516, -0.14976755],\n",
              "        [ 1.        , -0.59944922, -0.66136719,  0.35933937,  0.39645604,\n",
              "          0.43740656, -0.2154057 , -0.23765527, -0.26220302, -0.28928634],\n",
              "        [ 1.        , -0.41612891, -0.78058594,  0.17316327,  0.32482437,\n",
              "          0.60931441, -0.07205824, -0.13516881, -0.25355334, -0.47562226]]))"
            ]
          },
          "metadata": {},
          "execution_count": 30
        }
      ]
    },
    {
      "cell_type": "code",
      "source": [
        "w_pocket_transformed = pocket_algorithm(x_train_poly, y_train, max_iter=1000)\n",
        "w_pocket_transformed"
      ],
      "metadata": {
        "colab": {
          "base_uri": "https://localhost:8080/"
        },
        "id": "JtwHxhcw5UKk",
        "outputId": "96806638-620f-4d1a-9513-5ea79d91087b"
      },
      "execution_count": 31,
      "outputs": [
        {
          "output_type": "execute_result",
          "data": {
            "text/plain": [
              "array([-5.        , -7.19141797, -0.08516406, 17.22315982, -7.72214   ,\n",
              "        5.68526187, 15.09593988, 17.00373887,  4.15289652,  2.69237289])"
            ]
          },
          "metadata": {},
          "execution_count": 31
        }
      ]
    },
    {
      "cell_type": "code",
      "source": [
        "x_test_original = np.column_stack((intensity_list_test, symmetry_list_test))\n",
        "\n",
        "poly = PolynomialFeatures(3)\n",
        "\n",
        "x_test_poly = poly.fit_transform(x_test_original)\n",
        "\n",
        "x_test_poly.shape, x_test_poly[:5]"
      ],
      "metadata": {
        "colab": {
          "base_uri": "https://localhost:8080/"
        },
        "id": "x8Pvm0cJ5bMC",
        "outputId": "192796ed-aa1e-454a-89c6-5c8596edef22"
      },
      "execution_count": 32,
      "outputs": [
        {
          "output_type": "execute_result",
          "data": {
            "text/plain": [
              "((2007, 10),\n",
              " array([[ 1.        , -0.45564453, -0.71658594,  0.20761194,  0.32650846,\n",
              "          0.51349541, -0.09459724, -0.1487718 , -0.23397137, -0.36796359],\n",
              "        [ 1.        , -0.46973437, -0.7153125 ,  0.22065038,  0.33600687,\n",
              "          0.51167197, -0.10364707, -0.15783398, -0.24034991, -0.36600536],\n",
              "        [ 1.        , -0.32814844, -0.50671875,  0.1076814 ,  0.16627897,\n",
              "          0.25676389, -0.03533548, -0.05456418, -0.08425667, -0.13010708],\n",
              "        [ 1.        , -0.47030078, -0.58339844,  0.22118282,  0.27437274,\n",
              "          0.34035374, -0.10402246, -0.12903771, -0.16006863, -0.19856184],\n",
              "        [ 1.        , -0.30932422, -0.88935156,  0.09568147,  0.27509798,\n",
              "          0.7909462 , -0.0295966 , -0.08509447, -0.24465882, -0.70342924]]))"
            ]
          },
          "metadata": {},
          "execution_count": 32
        }
      ]
    },
    {
      "cell_type": "code",
      "source": [
        "# Compute test error\n",
        "error_rate_pocket_transformed = compute_error_rate(w_pocket_transformed, x_test_poly, y_test)\n",
        "\n",
        "print(f\"Error rate for Pocket_transformed: {error_rate_pocket_transformed: }\")"
      ],
      "metadata": {
        "colab": {
          "base_uri": "https://localhost:8080/"
        },
        "id": "xd5Z6yAX5c8j",
        "outputId": "4d95d14a-1a28-4417-b89d-e6fe7fd04ff9"
      },
      "execution_count": 33,
      "outputs": [
        {
          "output_type": "stream",
          "name": "stdout",
          "text": [
            "Error rate for Pocket_transformed:  0.02391629297458894\n"
          ]
        }
      ]
    },
    {
      "cell_type": "code",
      "source": [
        "# error_rate_pla = 0.025411061285500747\n",
        "# error_rate_pocket = 0.023418036870951668\n",
        "# error_rate_pocket_transformed = 0.02391629297458894\n",
        "error_stochastic_gradient_descent = 0.4936365254538982\n",
        "error_mini_batch_gradient_descent = 0.37735849056603776\n",
        "# error_linear_testing,\n",
        "# error_poly_testing,\n",
        "# error_rbf_testing,\n",
        "# test_error"
      ],
      "metadata": {
        "id": "yy92mgvQotrp"
      },
      "execution_count": 37,
      "outputs": []
    },
    {
      "cell_type": "code",
      "source": [
        "test_errors = {\n",
        "    'Model': [\n",
        "        'Perceptron Learning Algorithm (PLA)',\n",
        "        'Pocket Algorithm',\n",
        "        'Pocket with 3rd Order Polynomial',\n",
        "        'Neural Network (Stochastic Gradient Descent)',\n",
        "        'Neural Network (Mini Batch Gradient Descent)',\n",
        "        'SVM (RBF Kernal)'\n",
        "    ],\n",
        "    'Test Error': [\n",
        "        error_rate_pla,\n",
        "        error_rate_pocket,\n",
        "        error_rate_pocket_transformed,\n",
        "        error_stochastic_gradient_descent,\n",
        "        error_mini_batch_gradient_descent,\n",
        "        test_error\n",
        "    ]\n",
        "}\n",
        "\n",
        "error_df = pd.DataFrame(test_errors)\n",
        "error_df"
      ],
      "metadata": {
        "colab": {
          "base_uri": "https://localhost:8080/",
          "height": 237
        },
        "id": "wADcj7LfkDBt",
        "outputId": "5f0db686-779c-441e-9813-88d8b09cef04"
      },
      "execution_count": 42,
      "outputs": [
        {
          "output_type": "execute_result",
          "data": {
            "text/plain": [
              "                                          Model  Test Error\n",
              "0           Perceptron Learning Algorithm (PLA)    0.025411\n",
              "1                              Pocket Algorithm    0.023418\n",
              "2              Pocket with 3rd Order Polynomial    0.023916\n",
              "3  Neural Network (Stochastic Gradient Descent)    0.493637\n",
              "4  Neural Network (Mini Batch Gradient Descent)    0.377358\n",
              "5                              SVM (RBF Kernal)    0.022920"
            ],
            "text/html": [
              "\n",
              "  <div id=\"df-00d12444-e0d9-498b-9877-6d8fda6bfa87\" class=\"colab-df-container\">\n",
              "    <div>\n",
              "<style scoped>\n",
              "    .dataframe tbody tr th:only-of-type {\n",
              "        vertical-align: middle;\n",
              "    }\n",
              "\n",
              "    .dataframe tbody tr th {\n",
              "        vertical-align: top;\n",
              "    }\n",
              "\n",
              "    .dataframe thead th {\n",
              "        text-align: right;\n",
              "    }\n",
              "</style>\n",
              "<table border=\"1\" class=\"dataframe\">\n",
              "  <thead>\n",
              "    <tr style=\"text-align: right;\">\n",
              "      <th></th>\n",
              "      <th>Model</th>\n",
              "      <th>Test Error</th>\n",
              "    </tr>\n",
              "  </thead>\n",
              "  <tbody>\n",
              "    <tr>\n",
              "      <th>0</th>\n",
              "      <td>Perceptron Learning Algorithm (PLA)</td>\n",
              "      <td>0.025411</td>\n",
              "    </tr>\n",
              "    <tr>\n",
              "      <th>1</th>\n",
              "      <td>Pocket Algorithm</td>\n",
              "      <td>0.023418</td>\n",
              "    </tr>\n",
              "    <tr>\n",
              "      <th>2</th>\n",
              "      <td>Pocket with 3rd Order Polynomial</td>\n",
              "      <td>0.023916</td>\n",
              "    </tr>\n",
              "    <tr>\n",
              "      <th>3</th>\n",
              "      <td>Neural Network (Stochastic Gradient Descent)</td>\n",
              "      <td>0.493637</td>\n",
              "    </tr>\n",
              "    <tr>\n",
              "      <th>4</th>\n",
              "      <td>Neural Network (Mini Batch Gradient Descent)</td>\n",
              "      <td>0.377358</td>\n",
              "    </tr>\n",
              "    <tr>\n",
              "      <th>5</th>\n",
              "      <td>SVM (RBF Kernal)</td>\n",
              "      <td>0.022920</td>\n",
              "    </tr>\n",
              "  </tbody>\n",
              "</table>\n",
              "</div>\n",
              "    <div class=\"colab-df-buttons\">\n",
              "\n",
              "  <div class=\"colab-df-container\">\n",
              "    <button class=\"colab-df-convert\" onclick=\"convertToInteractive('df-00d12444-e0d9-498b-9877-6d8fda6bfa87')\"\n",
              "            title=\"Convert this dataframe to an interactive table.\"\n",
              "            style=\"display:none;\">\n",
              "\n",
              "  <svg xmlns=\"http://www.w3.org/2000/svg\" height=\"24px\" viewBox=\"0 -960 960 960\">\n",
              "    <path d=\"M120-120v-720h720v720H120Zm60-500h600v-160H180v160Zm220 220h160v-160H400v160Zm0 220h160v-160H400v160ZM180-400h160v-160H180v160Zm440 0h160v-160H620v160ZM180-180h160v-160H180v160Zm440 0h160v-160H620v160Z\"/>\n",
              "  </svg>\n",
              "    </button>\n",
              "\n",
              "  <style>\n",
              "    .colab-df-container {\n",
              "      display:flex;\n",
              "      gap: 12px;\n",
              "    }\n",
              "\n",
              "    .colab-df-convert {\n",
              "      background-color: #E8F0FE;\n",
              "      border: none;\n",
              "      border-radius: 50%;\n",
              "      cursor: pointer;\n",
              "      display: none;\n",
              "      fill: #1967D2;\n",
              "      height: 32px;\n",
              "      padding: 0 0 0 0;\n",
              "      width: 32px;\n",
              "    }\n",
              "\n",
              "    .colab-df-convert:hover {\n",
              "      background-color: #E2EBFA;\n",
              "      box-shadow: 0px 1px 2px rgba(60, 64, 67, 0.3), 0px 1px 3px 1px rgba(60, 64, 67, 0.15);\n",
              "      fill: #174EA6;\n",
              "    }\n",
              "\n",
              "    .colab-df-buttons div {\n",
              "      margin-bottom: 4px;\n",
              "    }\n",
              "\n",
              "    [theme=dark] .colab-df-convert {\n",
              "      background-color: #3B4455;\n",
              "      fill: #D2E3FC;\n",
              "    }\n",
              "\n",
              "    [theme=dark] .colab-df-convert:hover {\n",
              "      background-color: #434B5C;\n",
              "      box-shadow: 0px 1px 3px 1px rgba(0, 0, 0, 0.15);\n",
              "      filter: drop-shadow(0px 1px 2px rgba(0, 0, 0, 0.3));\n",
              "      fill: #FFFFFF;\n",
              "    }\n",
              "  </style>\n",
              "\n",
              "    <script>\n",
              "      const buttonEl =\n",
              "        document.querySelector('#df-00d12444-e0d9-498b-9877-6d8fda6bfa87 button.colab-df-convert');\n",
              "      buttonEl.style.display =\n",
              "        google.colab.kernel.accessAllowed ? 'block' : 'none';\n",
              "\n",
              "      async function convertToInteractive(key) {\n",
              "        const element = document.querySelector('#df-00d12444-e0d9-498b-9877-6d8fda6bfa87');\n",
              "        const dataTable =\n",
              "          await google.colab.kernel.invokeFunction('convertToInteractive',\n",
              "                                                    [key], {});\n",
              "        if (!dataTable) return;\n",
              "\n",
              "        const docLinkHtml = 'Like what you see? Visit the ' +\n",
              "          '<a target=\"_blank\" href=https://colab.research.google.com/notebooks/data_table.ipynb>data table notebook</a>'\n",
              "          + ' to learn more about interactive tables.';\n",
              "        element.innerHTML = '';\n",
              "        dataTable['output_type'] = 'display_data';\n",
              "        await google.colab.output.renderOutput(dataTable, element);\n",
              "        const docLink = document.createElement('div');\n",
              "        docLink.innerHTML = docLinkHtml;\n",
              "        element.appendChild(docLink);\n",
              "      }\n",
              "    </script>\n",
              "  </div>\n",
              "\n",
              "\n",
              "<div id=\"df-64204e82-9f4d-4047-8cf4-c94ac2957699\">\n",
              "  <button class=\"colab-df-quickchart\" onclick=\"quickchart('df-64204e82-9f4d-4047-8cf4-c94ac2957699')\"\n",
              "            title=\"Suggest charts\"\n",
              "            style=\"display:none;\">\n",
              "\n",
              "<svg xmlns=\"http://www.w3.org/2000/svg\" height=\"24px\"viewBox=\"0 0 24 24\"\n",
              "     width=\"24px\">\n",
              "    <g>\n",
              "        <path d=\"M19 3H5c-1.1 0-2 .9-2 2v14c0 1.1.9 2 2 2h14c1.1 0 2-.9 2-2V5c0-1.1-.9-2-2-2zM9 17H7v-7h2v7zm4 0h-2V7h2v10zm4 0h-2v-4h2v4z\"/>\n",
              "    </g>\n",
              "</svg>\n",
              "  </button>\n",
              "\n",
              "<style>\n",
              "  .colab-df-quickchart {\n",
              "      --bg-color: #E8F0FE;\n",
              "      --fill-color: #1967D2;\n",
              "      --hover-bg-color: #E2EBFA;\n",
              "      --hover-fill-color: #174EA6;\n",
              "      --disabled-fill-color: #AAA;\n",
              "      --disabled-bg-color: #DDD;\n",
              "  }\n",
              "\n",
              "  [theme=dark] .colab-df-quickchart {\n",
              "      --bg-color: #3B4455;\n",
              "      --fill-color: #D2E3FC;\n",
              "      --hover-bg-color: #434B5C;\n",
              "      --hover-fill-color: #FFFFFF;\n",
              "      --disabled-bg-color: #3B4455;\n",
              "      --disabled-fill-color: #666;\n",
              "  }\n",
              "\n",
              "  .colab-df-quickchart {\n",
              "    background-color: var(--bg-color);\n",
              "    border: none;\n",
              "    border-radius: 50%;\n",
              "    cursor: pointer;\n",
              "    display: none;\n",
              "    fill: var(--fill-color);\n",
              "    height: 32px;\n",
              "    padding: 0;\n",
              "    width: 32px;\n",
              "  }\n",
              "\n",
              "  .colab-df-quickchart:hover {\n",
              "    background-color: var(--hover-bg-color);\n",
              "    box-shadow: 0 1px 2px rgba(60, 64, 67, 0.3), 0 1px 3px 1px rgba(60, 64, 67, 0.15);\n",
              "    fill: var(--button-hover-fill-color);\n",
              "  }\n",
              "\n",
              "  .colab-df-quickchart-complete:disabled,\n",
              "  .colab-df-quickchart-complete:disabled:hover {\n",
              "    background-color: var(--disabled-bg-color);\n",
              "    fill: var(--disabled-fill-color);\n",
              "    box-shadow: none;\n",
              "  }\n",
              "\n",
              "  .colab-df-spinner {\n",
              "    border: 2px solid var(--fill-color);\n",
              "    border-color: transparent;\n",
              "    border-bottom-color: var(--fill-color);\n",
              "    animation:\n",
              "      spin 1s steps(1) infinite;\n",
              "  }\n",
              "\n",
              "  @keyframes spin {\n",
              "    0% {\n",
              "      border-color: transparent;\n",
              "      border-bottom-color: var(--fill-color);\n",
              "      border-left-color: var(--fill-color);\n",
              "    }\n",
              "    20% {\n",
              "      border-color: transparent;\n",
              "      border-left-color: var(--fill-color);\n",
              "      border-top-color: var(--fill-color);\n",
              "    }\n",
              "    30% {\n",
              "      border-color: transparent;\n",
              "      border-left-color: var(--fill-color);\n",
              "      border-top-color: var(--fill-color);\n",
              "      border-right-color: var(--fill-color);\n",
              "    }\n",
              "    40% {\n",
              "      border-color: transparent;\n",
              "      border-right-color: var(--fill-color);\n",
              "      border-top-color: var(--fill-color);\n",
              "    }\n",
              "    60% {\n",
              "      border-color: transparent;\n",
              "      border-right-color: var(--fill-color);\n",
              "    }\n",
              "    80% {\n",
              "      border-color: transparent;\n",
              "      border-right-color: var(--fill-color);\n",
              "      border-bottom-color: var(--fill-color);\n",
              "    }\n",
              "    90% {\n",
              "      border-color: transparent;\n",
              "      border-bottom-color: var(--fill-color);\n",
              "    }\n",
              "  }\n",
              "</style>\n",
              "\n",
              "  <script>\n",
              "    async function quickchart(key) {\n",
              "      const quickchartButtonEl =\n",
              "        document.querySelector('#' + key + ' button');\n",
              "      quickchartButtonEl.disabled = true;  // To prevent multiple clicks.\n",
              "      quickchartButtonEl.classList.add('colab-df-spinner');\n",
              "      try {\n",
              "        const charts = await google.colab.kernel.invokeFunction(\n",
              "            'suggestCharts', [key], {});\n",
              "      } catch (error) {\n",
              "        console.error('Error during call to suggestCharts:', error);\n",
              "      }\n",
              "      quickchartButtonEl.classList.remove('colab-df-spinner');\n",
              "      quickchartButtonEl.classList.add('colab-df-quickchart-complete');\n",
              "    }\n",
              "    (() => {\n",
              "      let quickchartButtonEl =\n",
              "        document.querySelector('#df-64204e82-9f4d-4047-8cf4-c94ac2957699 button');\n",
              "      quickchartButtonEl.style.display =\n",
              "        google.colab.kernel.accessAllowed ? 'block' : 'none';\n",
              "    })();\n",
              "  </script>\n",
              "</div>\n",
              "    </div>\n",
              "  </div>\n"
            ]
          },
          "metadata": {},
          "execution_count": 42
        }
      ]
    },
    {
      "cell_type": "markdown",
      "source": [
        "[HP1]\n",
        "\n",
        "Based on the results above, the SVM (RBF kernel) has the best performance with a test error of 0.02292, and the Neural Network trained with Stochastic Gradient Descent has the worst performance with a test error of 0.493637.\n",
        "\n",
        "The SVM model's capability to effectively separate classes with an optimal margin and handle non-linearities (through kernel trick) likely contributes to its best performance. In contrast, the SGD Neural Network's issues with variance in learning and potential overfitting or architectural shortcomings might be the reasons for its worst performance."
      ],
      "metadata": {
        "id": "COJdDMRIqMnL"
      }
    },
    {
      "cell_type": "markdown",
      "source": [
        "[HP2]\n",
        "\n",
        "Choosing the best digit classifier based solely on test error may not be entirely appropriate or the best way due to several factors like:\n",
        "\n",
        "1. Model complexity and overfitting - Different models have varying levels of complexity.\n",
        "\n",
        "2. Cross-Validation and Parameter Tuning:  Proper tuning of hyperparameters (like learning rate for neural networks, kernel type and C value for SVM) is essential for optimal performance.\n",
        "\n",
        "Better approach to choose the best digit classifier:\n",
        "1. Using a sufficiently large and diverse dataset to train and validate the models.\n",
        "\n",
        "2. Employing techniques like k-fold cross-validation to assess model performance.\n",
        "\n",
        "3. Balancing model complexity with the risk of overfitting, considering the dataset size.\n",
        "\n",
        "4. Tuning model parameters appropriately.\n",
        "\n",
        "5. Considering computational resources and the need for model interpretability based on the specific application."
      ],
      "metadata": {
        "id": "4p96J7BRsKWl"
      }
    }
  ]
}